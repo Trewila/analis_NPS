{
 "cells": [
  {
   "cell_type": "markdown",
   "id": "75e5d008",
   "metadata": {},
   "source": [
    "# Анализ NPS клиентов телекоммуникационной компании"
   ]
  },
  {
   "cell_type": "markdown",
   "id": "482a7e2c",
   "metadata": {},
   "source": [
    "Заказчик этого исследования — большая телекоммуникационная компания, которая оказывает услуги на территории всего СНГ. В нашем распоряжении база данных с результатами опроса клиентов удовлетворенности сервисом NPS.\n",
    "\n",
    "**Цель исследования:**\n",
    "Существует гипотеза, что есть факторы, влияющие на рынок NPS. Проверим ее. Также нам следует оценить, насколько успешна политика компании среди клиентов.\n",
    "\n",
    "**Ход исследования**\n",
    "\n",
    "Данные получим из базы данных.\n",
    "\n",
    "На первом этапе требуется выгрузить их и проверить качество. Затем перейдем к проверке гипотезы."
   ]
  },
  {
   "cell_type": "code",
   "execution_count": 68,
   "id": "fc7efa54",
   "metadata": {},
   "outputs": [],
   "source": [
    "import os\n",
    "import pandas as pd\n",
    "import numpy as np\n",
    "\n",
    "from sqlalchemy import create_engine"
   ]
  },
  {
   "cell_type": "code",
   "execution_count": 69,
   "id": "0017f8e7",
   "metadata": {},
   "outputs": [],
   "source": [
    "path_to_db_local = 'telecomm_csi.db'\n",
    "path_to_db_platform = '/datasets/telecomm_csi.db'\n",
    "path_to_db = None\n",
    "\n",
    "if os.path.exists(path_to_db_local):\n",
    "    path_to_db = path_to_db_local\n",
    "elif os.path.exists(path_to_db_platform):\n",
    "    path_to_db = path_to_db_platform\n",
    "else:\n",
    "    raise Exception('Файл с базой данных SQLite не найден!')\n",
    "\n",
    "if path_to_db:\n",
    "    engine = create_engine(f'sqlite:///{path_to_db}', echo=False)"
   ]
  },
  {
   "cell_type": "code",
   "execution_count": 70,
   "id": "84ebad43",
   "metadata": {},
   "outputs": [],
   "source": [
    "query = \"\"\" \n",
    "SELECT u.user_id,\n",
    "        u.lt_day,\n",
    "        CASE\n",
    "            WHEN u.lt_day < 365 THEN 'новый'\n",
    "            WHEN u.lt_day >= 365 THEN 'постоянный'\n",
    "            ELSE 'другие'\n",
    "        END AS is_new,\n",
    "        u.age,\n",
    "        CASE\n",
    "            WHEN u.gender_segment = 1 THEN 'женщина'\n",
    "            WHEN u.gender_segment = 0 THEN 'мужчина'\n",
    "            ELSE 'другие'\n",
    "        END AS gender,\n",
    "        u.os_name,\n",
    "        u.cpe_type_name,\n",
    "        loc.country,\n",
    "        loc.city,\n",
    "        age.title AS title_age_segment,\n",
    "        traf.title AS title_traf_segment,\n",
    "        life.title AS title_life_segment,\n",
    "        u.nps_score,\n",
    "        CASE\n",
    "            WHEN u.nps_score > 8 THEN 'сторонники'\n",
    "            WHEN u.nps_score > 6 AND u.nps_score <= 8 THEN 'нейтралы'\n",
    "            WHEN u.nps_score <= 6  THEN 'критики'\n",
    "            ELSE 'другие' \n",
    "        END AS nps_group\n",
    "FROM user AS u\n",
    "INNER JOIN location AS loc ON u.location_id = loc.location_id\n",
    "INNER JOIN age_segment AS age ON age.age_gr_id = u.age_gr_id\n",
    "INNER JOIN traffic_segment AS traf ON traf.tr_gr_id = u.tr_gr_id\n",
    "INNER JOIN lifetime_segment AS life ON life.lt_gr_id = u.lt_gr_id;\n",
    "\"\"\""
   ]
  },
  {
   "cell_type": "code",
   "execution_count": 78,
   "id": "f6efe9c4",
   "metadata": {
    "scrolled": true
   },
   "outputs": [
    {
     "data": {
      "text/html": [
       "<div>\n",
       "<style scoped>\n",
       "    .dataframe tbody tr th:only-of-type {\n",
       "        vertical-align: middle;\n",
       "    }\n",
       "\n",
       "    .dataframe tbody tr th {\n",
       "        vertical-align: top;\n",
       "    }\n",
       "\n",
       "    .dataframe thead th {\n",
       "        text-align: right;\n",
       "    }\n",
       "</style>\n",
       "<table border=\"1\" class=\"dataframe\">\n",
       "  <thead>\n",
       "    <tr style=\"text-align: right;\">\n",
       "      <th></th>\n",
       "      <th>user_id</th>\n",
       "      <th>lt_day</th>\n",
       "      <th>is_new</th>\n",
       "      <th>age</th>\n",
       "      <th>gender</th>\n",
       "      <th>os_name</th>\n",
       "      <th>cpe_type_name</th>\n",
       "      <th>country</th>\n",
       "      <th>city</th>\n",
       "      <th>title_age_segment</th>\n",
       "      <th>title_traf_segment</th>\n",
       "      <th>title_life_segment</th>\n",
       "      <th>nps_score</th>\n",
       "      <th>nps_group</th>\n",
       "    </tr>\n",
       "  </thead>\n",
       "  <tbody>\n",
       "    <tr>\n",
       "      <th>0</th>\n",
       "      <td>A001A2</td>\n",
       "      <td>2320</td>\n",
       "      <td>постоянный</td>\n",
       "      <td>45.0</td>\n",
       "      <td>женщина</td>\n",
       "      <td>ANDROID</td>\n",
       "      <td>SMARTPHONE</td>\n",
       "      <td>Россия</td>\n",
       "      <td>Уфа</td>\n",
       "      <td>05 45-54</td>\n",
       "      <td>04 1-5</td>\n",
       "      <td>08 36+</td>\n",
       "      <td>10</td>\n",
       "      <td>сторонники</td>\n",
       "    </tr>\n",
       "    <tr>\n",
       "      <th>1</th>\n",
       "      <td>A001WF</td>\n",
       "      <td>2344</td>\n",
       "      <td>постоянный</td>\n",
       "      <td>53.0</td>\n",
       "      <td>мужчина</td>\n",
       "      <td>ANDROID</td>\n",
       "      <td>SMARTPHONE</td>\n",
       "      <td>Россия</td>\n",
       "      <td>Киров</td>\n",
       "      <td>05 45-54</td>\n",
       "      <td>04 1-5</td>\n",
       "      <td>08 36+</td>\n",
       "      <td>10</td>\n",
       "      <td>сторонники</td>\n",
       "    </tr>\n",
       "    <tr>\n",
       "      <th>2</th>\n",
       "      <td>A003Q7</td>\n",
       "      <td>467</td>\n",
       "      <td>постоянный</td>\n",
       "      <td>57.0</td>\n",
       "      <td>мужчина</td>\n",
       "      <td>ANDROID</td>\n",
       "      <td>SMARTPHONE</td>\n",
       "      <td>Россия</td>\n",
       "      <td>Москва</td>\n",
       "      <td>06 55-64</td>\n",
       "      <td>08 20-25</td>\n",
       "      <td>06 13-24</td>\n",
       "      <td>10</td>\n",
       "      <td>сторонники</td>\n",
       "    </tr>\n",
       "    <tr>\n",
       "      <th>3</th>\n",
       "      <td>A004TB</td>\n",
       "      <td>4190</td>\n",
       "      <td>постоянный</td>\n",
       "      <td>44.0</td>\n",
       "      <td>женщина</td>\n",
       "      <td>IOS</td>\n",
       "      <td>SMARTPHONE</td>\n",
       "      <td>Россия</td>\n",
       "      <td>РостовнаДону</td>\n",
       "      <td>04 35-44</td>\n",
       "      <td>03 0.1-1</td>\n",
       "      <td>08 36+</td>\n",
       "      <td>10</td>\n",
       "      <td>сторонники</td>\n",
       "    </tr>\n",
       "    <tr>\n",
       "      <th>4</th>\n",
       "      <td>A004XT</td>\n",
       "      <td>1163</td>\n",
       "      <td>постоянный</td>\n",
       "      <td>24.0</td>\n",
       "      <td>мужчина</td>\n",
       "      <td>ANDROID</td>\n",
       "      <td>SMARTPHONE</td>\n",
       "      <td>Россия</td>\n",
       "      <td>Рязань</td>\n",
       "      <td>02 16-24</td>\n",
       "      <td>05 5-10</td>\n",
       "      <td>08 36+</td>\n",
       "      <td>10</td>\n",
       "      <td>сторонники</td>\n",
       "    </tr>\n",
       "  </tbody>\n",
       "</table>\n",
       "</div>"
      ],
      "text/plain": [
       "  user_id  lt_day      is_new   age   gender  os_name cpe_type_name country  \\\n",
       "0  A001A2    2320  постоянный  45.0  женщина  ANDROID    SMARTPHONE  Россия   \n",
       "1  A001WF    2344  постоянный  53.0  мужчина  ANDROID    SMARTPHONE  Россия   \n",
       "2  A003Q7     467  постоянный  57.0  мужчина  ANDROID    SMARTPHONE  Россия   \n",
       "3  A004TB    4190  постоянный  44.0  женщина      IOS    SMARTPHONE  Россия   \n",
       "4  A004XT    1163  постоянный  24.0  мужчина  ANDROID    SMARTPHONE  Россия   \n",
       "\n",
       "           city title_age_segment title_traf_segment title_life_segment  \\\n",
       "0           Уфа          05 45-54             04 1-5             08 36+   \n",
       "1         Киров          05 45-54             04 1-5             08 36+   \n",
       "2        Москва          06 55-64           08 20-25           06 13-24   \n",
       "3  РостовнаДону          04 35-44           03 0.1-1             08 36+   \n",
       "4        Рязань          02 16-24            05 5-10             08 36+   \n",
       "\n",
       "   nps_score   nps_group  \n",
       "0         10  сторонники  \n",
       "1         10  сторонники  \n",
       "2         10  сторонники  \n",
       "3         10  сторонники  \n",
       "4         10  сторонники  "
      ]
     },
     "execution_count": 78,
     "metadata": {},
     "output_type": "execute_result"
    }
   ],
   "source": [
    "df.head(5)"
   ]
  },
  {
   "cell_type": "code",
   "execution_count": 72,
   "id": "0c255231",
   "metadata": {},
   "outputs": [
    {
     "name": "stdout",
     "output_type": "stream",
     "text": [
      "<class 'pandas.core.frame.DataFrame'>\n",
      "RangeIndex: 502493 entries, 0 to 502492\n",
      "Data columns (total 14 columns):\n",
      " #   Column              Non-Null Count   Dtype  \n",
      "---  ------              --------------   -----  \n",
      " 0   user_id             502493 non-null  object \n",
      " 1   lt_day              502493 non-null  int64  \n",
      " 2   is_new              502493 non-null  object \n",
      " 3   age                 501939 non-null  float64\n",
      " 4   gender              502493 non-null  object \n",
      " 5   os_name             502493 non-null  object \n",
      " 6   cpe_type_name       502493 non-null  object \n",
      " 7   country             502493 non-null  object \n",
      " 8   city                502493 non-null  object \n",
      " 9   title_age_segment   502493 non-null  object \n",
      " 10  title_traf_segment  502493 non-null  object \n",
      " 11  title_life_segment  502493 non-null  object \n",
      " 12  nps_score           502493 non-null  int64  \n",
      " 13  nps_group           502493 non-null  object \n",
      "dtypes: float64(1), int64(2), object(11)\n",
      "memory usage: 53.7+ MB\n"
     ]
    }
   ],
   "source": [
    "df.info()"
   ]
  },
  {
   "cell_type": "code",
   "execution_count": 73,
   "id": "3c108a6d",
   "metadata": {},
   "outputs": [
    {
     "data": {
      "text/plain": [
       "user_id                 0\n",
       "lt_day                  0\n",
       "is_new                  0\n",
       "age                   554\n",
       "gender                  0\n",
       "os_name                 0\n",
       "cpe_type_name           0\n",
       "country                 0\n",
       "city                    0\n",
       "title_age_segment       0\n",
       "title_traf_segment      0\n",
       "title_life_segment      0\n",
       "nps_score               0\n",
       "nps_group               0\n",
       "dtype: int64"
      ]
     },
     "execution_count": 73,
     "metadata": {},
     "output_type": "execute_result"
    }
   ],
   "source": [
    "df.isna().sum()"
   ]
  },
  {
   "cell_type": "code",
   "execution_count": 74,
   "id": "4c5875f0",
   "metadata": {},
   "outputs": [
    {
     "name": "stdout",
     "output_type": "stream",
     "text": [
      "<class 'pandas.core.frame.DataFrame'>\n",
      "Int64Index: 501939 entries, 0 to 502492\n",
      "Data columns (total 14 columns):\n",
      " #   Column              Non-Null Count   Dtype  \n",
      "---  ------              --------------   -----  \n",
      " 0   user_id             501939 non-null  object \n",
      " 1   lt_day              501939 non-null  int64  \n",
      " 2   is_new              501939 non-null  object \n",
      " 3   age                 501939 non-null  float64\n",
      " 4   gender              501939 non-null  object \n",
      " 5   os_name             501939 non-null  object \n",
      " 6   cpe_type_name       501939 non-null  object \n",
      " 7   country             501939 non-null  object \n",
      " 8   city                501939 non-null  object \n",
      " 9   title_age_segment   501939 non-null  object \n",
      " 10  title_traf_segment  501939 non-null  object \n",
      " 11  title_life_segment  501939 non-null  object \n",
      " 12  nps_score           501939 non-null  int64  \n",
      " 13  nps_group           501939 non-null  object \n",
      "dtypes: float64(1), int64(2), object(11)\n",
      "memory usage: 57.4+ MB\n"
     ]
    }
   ],
   "source": [
    "df = df.dropna()\n",
    "df.info()"
   ]
  },
  {
   "cell_type": "code",
   "execution_count": 75,
   "id": "288f3db5",
   "metadata": {},
   "outputs": [
    {
     "data": {
      "text/plain": [
       "0"
      ]
     },
     "execution_count": 75,
     "metadata": {},
     "output_type": "execute_result"
    }
   ],
   "source": [
    "df.duplicated().sum()"
   ]
  },
  {
   "cell_type": "code",
   "execution_count": 76,
   "id": "05e638a1",
   "metadata": {},
   "outputs": [],
   "source": [
    "df.reset_index(drop=True , inplace=True)"
   ]
  },
  {
   "cell_type": "code",
   "execution_count": 77,
   "id": "831af792",
   "metadata": {},
   "outputs": [],
   "source": [
    "df.to_csv('telecomm_csi_traffic.csv')"
   ]
  },
  {
   "cell_type": "markdown",
   "id": "174a8cf9",
   "metadata": {},
   "source": [
    "Презентация проекта: https://public.tableau.com/app/profile/vasilisa.doronina/viz/Book3_17091427338140/Story1?publish=yes"
   ]
  },
  {
   "cell_type": "code",
   "execution_count": null,
   "id": "10adaf3a",
   "metadata": {},
   "outputs": [],
   "source": []
  }
 ],
 "metadata": {
  "ExecuteTimeLog": [
   {
    "duration": 103,
    "start_time": "2024-02-26T14:12:17.110Z"
   },
   {
    "duration": 559,
    "start_time": "2024-02-26T14:12:20.089Z"
   },
   {
    "duration": 92,
    "start_time": "2024-02-26T14:12:21.204Z"
   },
   {
    "duration": 111,
    "start_time": "2024-02-26T14:12:22.475Z"
   },
   {
    "duration": 99,
    "start_time": "2024-02-26T14:12:34.051Z"
   },
   {
    "duration": 3,
    "start_time": "2024-02-26T14:16:40.610Z"
   },
   {
    "duration": 3811,
    "start_time": "2024-02-26T14:16:44.713Z"
   },
   {
    "duration": 2780,
    "start_time": "2024-02-26T14:16:48.526Z"
   },
   {
    "duration": 11,
    "start_time": "2024-02-26T14:18:19.888Z"
   },
   {
    "duration": 12,
    "start_time": "2024-02-26T14:18:26.990Z"
   },
   {
    "duration": 11,
    "start_time": "2024-02-26T14:18:38.360Z"
   },
   {
    "duration": 131,
    "start_time": "2024-02-26T14:18:45.768Z"
   },
   {
    "duration": 130,
    "start_time": "2024-02-26T14:21:00.374Z"
   },
   {
    "duration": 74,
    "start_time": "2024-02-26T14:21:29.987Z"
   },
   {
    "duration": 129,
    "start_time": "2024-02-26T14:22:46.666Z"
   },
   {
    "duration": 321,
    "start_time": "2024-02-26T14:23:37.297Z"
   },
   {
    "duration": 77,
    "start_time": "2024-02-26T14:24:13.994Z"
   },
   {
    "duration": 3,
    "start_time": "2024-02-26T15:31:30.044Z"
   },
   {
    "duration": 656,
    "start_time": "2024-02-26T15:31:32.124Z"
   },
   {
    "duration": 3,
    "start_time": "2024-02-26T15:31:55.132Z"
   },
   {
    "duration": 668,
    "start_time": "2024-02-26T15:31:57.148Z"
   },
   {
    "duration": 3,
    "start_time": "2024-02-26T15:33:35.106Z"
   },
   {
    "duration": 678,
    "start_time": "2024-02-26T15:33:36.618Z"
   },
   {
    "duration": 3,
    "start_time": "2024-02-26T15:38:00.382Z"
   },
   {
    "duration": 4673,
    "start_time": "2024-02-26T15:38:01.813Z"
   },
   {
    "duration": 4670,
    "start_time": "2024-02-26T15:39:48.911Z"
   },
   {
    "duration": 3,
    "start_time": "2024-02-26T15:56:22.687Z"
   },
   {
    "duration": 404,
    "start_time": "2024-02-26T15:56:25.230Z"
   },
   {
    "duration": 3,
    "start_time": "2024-02-26T15:56:37.907Z"
   },
   {
    "duration": 405,
    "start_time": "2024-02-26T15:56:40.251Z"
   },
   {
    "duration": 3,
    "start_time": "2024-02-26T15:56:58.091Z"
   },
   {
    "duration": 420,
    "start_time": "2024-02-26T15:57:01.763Z"
   },
   {
    "duration": 3,
    "start_time": "2024-02-26T16:01:43.703Z"
   },
   {
    "duration": 406,
    "start_time": "2024-02-26T16:01:45.227Z"
   },
   {
    "duration": 3,
    "start_time": "2024-02-26T16:01:53.406Z"
   },
   {
    "duration": 404,
    "start_time": "2024-02-26T16:01:55.806Z"
   },
   {
    "duration": 2,
    "start_time": "2024-02-26T16:02:11.607Z"
   },
   {
    "duration": 404,
    "start_time": "2024-02-26T16:02:13.327Z"
   },
   {
    "duration": 3,
    "start_time": "2024-02-26T16:05:23.213Z"
   },
   {
    "duration": 651,
    "start_time": "2024-02-26T16:05:24.933Z"
   },
   {
    "duration": 2,
    "start_time": "2024-02-26T16:05:34.410Z"
   },
   {
    "duration": 403,
    "start_time": "2024-02-26T16:05:37.907Z"
   },
   {
    "duration": 3,
    "start_time": "2024-02-26T16:09:04.465Z"
   },
   {
    "duration": 395,
    "start_time": "2024-02-26T16:09:15.854Z"
   },
   {
    "duration": 3,
    "start_time": "2024-02-26T16:10:12.206Z"
   },
   {
    "duration": 398,
    "start_time": "2024-02-26T16:10:13.934Z"
   },
   {
    "duration": 2,
    "start_time": "2024-02-26T16:10:19.510Z"
   },
   {
    "duration": 400,
    "start_time": "2024-02-26T16:10:21.326Z"
   },
   {
    "duration": 3,
    "start_time": "2024-02-26T16:10:38.846Z"
   },
   {
    "duration": 75,
    "start_time": "2024-02-26T16:10:38.851Z"
   },
   {
    "duration": 3,
    "start_time": "2024-02-26T16:10:38.928Z"
   },
   {
    "duration": 378,
    "start_time": "2024-02-26T16:10:38.932Z"
   },
   {
    "duration": 397,
    "start_time": "2024-02-26T16:10:41.782Z"
   },
   {
    "duration": 2,
    "start_time": "2024-02-26T16:11:05.269Z"
   },
   {
    "duration": 4630,
    "start_time": "2024-02-26T16:11:06.814Z"
   },
   {
    "duration": 3,
    "start_time": "2024-02-26T16:11:25.580Z"
   },
   {
    "duration": 4945,
    "start_time": "2024-02-26T16:11:27.149Z"
   },
   {
    "duration": 2,
    "start_time": "2024-02-26T16:11:43.253Z"
   },
   {
    "duration": 4855,
    "start_time": "2024-02-26T16:11:48.012Z"
   },
   {
    "duration": 4,
    "start_time": "2024-02-26T16:24:41.865Z"
   },
   {
    "duration": 664,
    "start_time": "2024-02-26T16:24:43.575Z"
   },
   {
    "duration": 2,
    "start_time": "2024-02-26T16:27:40.426Z"
   },
   {
    "duration": 4904,
    "start_time": "2024-02-26T16:27:42.266Z"
   },
   {
    "duration": 3,
    "start_time": "2024-02-26T16:29:18.416Z"
   },
   {
    "duration": 666,
    "start_time": "2024-02-26T16:29:19.878Z"
   },
   {
    "duration": 3,
    "start_time": "2024-02-26T16:32:17.292Z"
   },
   {
    "duration": 659,
    "start_time": "2024-02-26T16:32:19.213Z"
   },
   {
    "duration": 3,
    "start_time": "2024-02-26T16:33:48.878Z"
   },
   {
    "duration": 667,
    "start_time": "2024-02-26T16:33:52.074Z"
   },
   {
    "duration": 3,
    "start_time": "2024-02-26T16:34:25.690Z"
   },
   {
    "duration": 5024,
    "start_time": "2024-02-26T16:34:28.593Z"
   },
   {
    "duration": 4838,
    "start_time": "2024-02-26T16:34:37.145Z"
   },
   {
    "duration": 3,
    "start_time": "2024-02-26T16:36:26.168Z"
   },
   {
    "duration": 678,
    "start_time": "2024-02-26T16:36:28.179Z"
   },
   {
    "duration": 3,
    "start_time": "2024-02-26T16:36:41.298Z"
   },
   {
    "duration": 4762,
    "start_time": "2024-02-26T16:36:44.058Z"
   },
   {
    "duration": 3,
    "start_time": "2024-02-26T16:37:13.050Z"
   },
   {
    "duration": 663,
    "start_time": "2024-02-26T16:37:14.665Z"
   },
   {
    "duration": 3,
    "start_time": "2024-02-26T16:50:43.090Z"
   },
   {
    "duration": 408,
    "start_time": "2024-02-26T16:50:44.290Z"
   },
   {
    "duration": 3,
    "start_time": "2024-02-26T16:51:20.897Z"
   },
   {
    "duration": 481,
    "start_time": "2024-02-26T16:51:21.920Z"
   },
   {
    "duration": 3,
    "start_time": "2024-02-26T16:51:32.384Z"
   },
   {
    "duration": 430,
    "start_time": "2024-02-26T16:51:34.152Z"
   },
   {
    "duration": 3,
    "start_time": "2024-02-26T16:53:06.858Z"
   },
   {
    "duration": 416,
    "start_time": "2024-02-26T16:53:07.961Z"
   },
   {
    "duration": 4,
    "start_time": "2024-02-26T17:31:10.730Z"
   },
   {
    "duration": 436,
    "start_time": "2024-02-26T17:31:12.208Z"
   },
   {
    "duration": 4,
    "start_time": "2024-02-26T17:31:37.376Z"
   },
   {
    "duration": 413,
    "start_time": "2024-02-26T17:31:39.056Z"
   },
   {
    "duration": 3,
    "start_time": "2024-02-26T17:31:59.063Z"
   },
   {
    "duration": 387,
    "start_time": "2024-02-26T17:32:20.663Z"
   },
   {
    "duration": 4,
    "start_time": "2024-02-26T17:32:59.662Z"
   },
   {
    "duration": 502,
    "start_time": "2024-02-26T17:33:27.936Z"
   },
   {
    "duration": 80,
    "start_time": "2024-02-26T17:33:28.441Z"
   },
   {
    "duration": 3,
    "start_time": "2024-02-26T17:33:28.523Z"
   },
   {
    "duration": 5829,
    "start_time": "2024-02-26T17:33:28.528Z"
   },
   {
    "duration": 3,
    "start_time": "2024-02-26T17:36:21.406Z"
   },
   {
    "duration": 5509,
    "start_time": "2024-02-26T17:36:23.317Z"
   },
   {
    "duration": 5468,
    "start_time": "2024-02-26T17:36:41.005Z"
   },
   {
    "duration": 3,
    "start_time": "2024-02-26T17:37:41.833Z"
   },
   {
    "duration": 5431,
    "start_time": "2024-02-26T17:37:44.140Z"
   },
   {
    "duration": 5512,
    "start_time": "2024-02-26T17:38:00.420Z"
   },
   {
    "duration": 5435,
    "start_time": "2024-02-26T17:58:36.442Z"
   },
   {
    "duration": 474,
    "start_time": "2024-02-26T17:58:47.699Z"
   },
   {
    "duration": 457,
    "start_time": "2024-02-26T17:59:07.435Z"
   },
   {
    "duration": 643,
    "start_time": "2024-02-26T17:59:24.722Z"
   },
   {
    "duration": 1230,
    "start_time": "2024-02-26T17:59:31.523Z"
   },
   {
    "duration": 88,
    "start_time": "2024-02-26T18:00:03.371Z"
   },
   {
    "duration": 71,
    "start_time": "2024-02-26T18:00:05.906Z"
   },
   {
    "duration": 3,
    "start_time": "2024-02-26T18:00:13.117Z"
   },
   {
    "duration": 77,
    "start_time": "2024-02-26T18:00:13.122Z"
   },
   {
    "duration": 4,
    "start_time": "2024-02-26T18:00:13.200Z"
   },
   {
    "duration": 5365,
    "start_time": "2024-02-26T18:00:13.205Z"
   },
   {
    "duration": 503,
    "start_time": "2024-02-26T18:00:18.572Z"
   },
   {
    "duration": 478,
    "start_time": "2024-02-26T18:00:19.080Z"
   },
   {
    "duration": 1120,
    "start_time": "2024-02-26T18:00:19.560Z"
   },
   {
    "duration": 83,
    "start_time": "2024-02-26T18:00:20.682Z"
   },
   {
    "duration": 44,
    "start_time": "2024-02-28T12:18:06.241Z"
   },
   {
    "duration": 551,
    "start_time": "2024-02-28T12:18:11.317Z"
   },
   {
    "duration": 93,
    "start_time": "2024-02-28T12:18:11.870Z"
   },
   {
    "duration": 3,
    "start_time": "2024-02-28T12:18:11.965Z"
   },
   {
    "duration": 5311,
    "start_time": "2024-02-28T12:18:11.969Z"
   },
   {
    "duration": 448,
    "start_time": "2024-02-28T12:18:17.282Z"
   },
   {
    "duration": 435,
    "start_time": "2024-02-28T12:18:17.732Z"
   },
   {
    "duration": 1044,
    "start_time": "2024-02-28T12:18:18.169Z"
   },
   {
    "duration": 80,
    "start_time": "2024-02-28T12:18:19.217Z"
   },
   {
    "duration": 40,
    "start_time": "2024-02-28T12:18:19.298Z"
   },
   {
    "duration": 6,
    "start_time": "2024-02-28T12:18:35.562Z"
   },
   {
    "duration": 6,
    "start_time": "2024-02-28T12:22:28.123Z"
   },
   {
    "duration": 10,
    "start_time": "2024-02-28T13:27:14.916Z"
   },
   {
    "duration": 3,
    "start_time": "2024-02-28T13:27:58.001Z"
   },
   {
    "duration": 76,
    "start_time": "2024-02-28T13:27:58.007Z"
   },
   {
    "duration": 4,
    "start_time": "2024-02-28T13:27:58.085Z"
   },
   {
    "duration": 5402,
    "start_time": "2024-02-28T13:27:58.090Z"
   },
   {
    "duration": 533,
    "start_time": "2024-02-28T13:28:03.494Z"
   },
   {
    "duration": 496,
    "start_time": "2024-02-28T13:28:04.029Z"
   },
   {
    "duration": 1149,
    "start_time": "2024-02-28T13:28:04.527Z"
   },
   {
    "duration": 94,
    "start_time": "2024-02-28T13:28:05.678Z"
   },
   {
    "duration": 33,
    "start_time": "2024-02-28T13:28:05.774Z"
   },
   {
    "duration": 12,
    "start_time": "2024-02-28T13:29:50.323Z"
   },
   {
    "duration": 10,
    "start_time": "2024-02-28T13:30:30.030Z"
   },
   {
    "duration": 7,
    "start_time": "2024-02-28T13:30:39.552Z"
   },
   {
    "duration": 3,
    "start_time": "2024-02-28T13:30:41.653Z"
   },
   {
    "duration": 84,
    "start_time": "2024-02-28T13:30:41.658Z"
   },
   {
    "duration": 2,
    "start_time": "2024-02-28T13:30:41.744Z"
   },
   {
    "duration": 5266,
    "start_time": "2024-02-28T13:30:41.748Z"
   },
   {
    "duration": 477,
    "start_time": "2024-02-28T13:30:47.018Z"
   },
   {
    "duration": 485,
    "start_time": "2024-02-28T13:30:47.497Z"
   },
   {
    "duration": 1135,
    "start_time": "2024-02-28T13:30:47.983Z"
   },
   {
    "duration": 100,
    "start_time": "2024-02-28T13:30:49.120Z"
   },
   {
    "duration": 15,
    "start_time": "2024-02-28T13:30:49.223Z"
   },
   {
    "duration": 10,
    "start_time": "2024-02-28T13:30:54.615Z"
   },
   {
    "duration": 8,
    "start_time": "2024-02-28T13:31:25.239Z"
   },
   {
    "duration": 10,
    "start_time": "2024-02-28T13:34:11.416Z"
   },
   {
    "duration": 7,
    "start_time": "2024-02-28T13:34:18.499Z"
   },
   {
    "duration": 8,
    "start_time": "2024-02-28T13:34:20.936Z"
   },
   {
    "duration": 2,
    "start_time": "2024-02-28T13:34:23.587Z"
   },
   {
    "duration": 68,
    "start_time": "2024-02-28T13:34:23.591Z"
   },
   {
    "duration": 3,
    "start_time": "2024-02-28T13:34:23.660Z"
   },
   {
    "duration": 5322,
    "start_time": "2024-02-28T13:34:23.665Z"
   },
   {
    "duration": 511,
    "start_time": "2024-02-28T13:34:28.990Z"
   },
   {
    "duration": 498,
    "start_time": "2024-02-28T13:34:29.503Z"
   },
   {
    "duration": 1203,
    "start_time": "2024-02-28T13:34:30.002Z"
   },
   {
    "duration": 1370,
    "start_time": "2024-02-28T13:34:31.206Z"
   },
   {
    "duration": 7,
    "start_time": "2024-02-28T13:34:47.563Z"
   },
   {
    "duration": 4,
    "start_time": "2024-02-28T13:34:52.308Z"
   },
   {
    "duration": 5506,
    "start_time": "2024-02-28T13:36:29.937Z"
   },
   {
    "duration": 2,
    "start_time": "2024-02-28T13:42:48.668Z"
   },
   {
    "duration": 72,
    "start_time": "2024-02-28T13:42:48.683Z"
   },
   {
    "duration": 3,
    "start_time": "2024-02-28T13:42:48.758Z"
   },
   {
    "duration": 5056,
    "start_time": "2024-02-28T13:42:48.763Z"
   },
   {
    "duration": 476,
    "start_time": "2024-02-28T13:42:53.823Z"
   },
   {
    "duration": 463,
    "start_time": "2024-02-28T13:42:54.301Z"
   },
   {
    "duration": 1080,
    "start_time": "2024-02-28T13:42:54.765Z"
   },
   {
    "duration": 1189,
    "start_time": "2024-02-28T13:42:55.847Z"
   },
   {
    "duration": 2,
    "start_time": "2024-02-28T13:42:57.038Z"
   },
   {
    "duration": 6076,
    "start_time": "2024-02-28T13:42:57.042Z"
   },
   {
    "duration": 3,
    "start_time": "2024-02-28T13:50:07.077Z"
   },
   {
    "duration": 5246,
    "start_time": "2024-02-28T13:50:08.759Z"
   },
   {
    "duration": 490,
    "start_time": "2024-02-28T13:50:22.113Z"
   },
   {
    "duration": 474,
    "start_time": "2024-02-28T13:50:22.605Z"
   },
   {
    "duration": 504,
    "start_time": "2024-02-28T13:50:24.870Z"
   },
   {
    "duration": 1160,
    "start_time": "2024-02-28T13:50:26.966Z"
   },
   {
    "duration": 2,
    "start_time": "2024-02-28T13:50:29.360Z"
   },
   {
    "duration": 67,
    "start_time": "2024-02-28T13:50:29.364Z"
   },
   {
    "duration": 4,
    "start_time": "2024-02-28T13:50:29.433Z"
   },
   {
    "duration": 5008,
    "start_time": "2024-02-28T13:50:29.440Z"
   },
   {
    "duration": 493,
    "start_time": "2024-02-28T13:50:34.450Z"
   },
   {
    "duration": 458,
    "start_time": "2024-02-28T13:50:34.945Z"
   },
   {
    "duration": 1070,
    "start_time": "2024-02-28T13:50:35.405Z"
   },
   {
    "duration": 1286,
    "start_time": "2024-02-28T13:50:36.477Z"
   },
   {
    "duration": 3,
    "start_time": "2024-02-28T13:50:37.765Z"
   },
   {
    "duration": 5608,
    "start_time": "2024-02-28T13:50:37.769Z"
   },
   {
    "duration": 15,
    "start_time": "2024-02-28T19:16:26.672Z"
   }
  ],
  "kernelspec": {
   "display_name": "Python 3 (ipykernel)",
   "language": "python",
   "name": "python3"
  },
  "language_info": {
   "codemirror_mode": {
    "name": "ipython",
    "version": 3
   },
   "file_extension": ".py",
   "mimetype": "text/x-python",
   "name": "python",
   "nbconvert_exporter": "python",
   "pygments_lexer": "ipython3",
   "version": "3.9.5"
  },
  "toc": {
   "base_numbering": 1,
   "nav_menu": {},
   "number_sections": true,
   "sideBar": true,
   "skip_h1_title": true,
   "title_cell": "Table of Contents",
   "title_sidebar": "Contents",
   "toc_cell": false,
   "toc_position": {},
   "toc_section_display": true,
   "toc_window_display": false
  }
 },
 "nbformat": 4,
 "nbformat_minor": 5
}
